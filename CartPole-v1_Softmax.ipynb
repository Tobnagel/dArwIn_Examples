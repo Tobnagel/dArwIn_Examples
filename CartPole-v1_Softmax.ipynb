{
 "cells": [
  {
   "cell_type": "markdown",
   "id": "640dafc2",
   "metadata": {},
   "source": [
    "## CartPole-v1\n",
    "\n",
    "https://gym.openai.com/envs/CartPole-v1/  \n",
    "CartPole-v0 defines \"solving\" as getting average reward of 195.0 over 100 consecutive trials. "
   ]
  },
  {
   "cell_type": "code",
   "execution_count": 1,
   "id": "be018a9c",
   "metadata": {},
   "outputs": [],
   "source": [
    "from dArwIn import Darwin\n",
    "\n",
    "import gym\n",
    "import numpy as np"
   ]
  },
  {
   "cell_type": "code",
   "execution_count": 2,
   "id": "3c455cd9",
   "metadata": {},
   "outputs": [
    {
     "name": "stdout",
     "output_type": "stream",
     "text": [
      "Box(-3.4028234663852886e+38, 3.4028234663852886e+38, (4,), float32)\n",
      "Discrete(2)\n",
      "[ 0.03325426 -0.04700721 -0.04903372  0.01183311]\n"
     ]
    }
   ],
   "source": [
    "env = gym.make('CartPole-v1')\n",
    "obs = env.reset()\n",
    "print(env.observation_space)\n",
    "print(env.action_space)\n",
    "print(obs)\n",
    "del env"
   ]
  },
  {
   "cell_type": "code",
   "execution_count": 3,
   "id": "65bdff88",
   "metadata": {},
   "outputs": [],
   "source": [
    "def eval_func(genom):\n",
    "    env = gym.make('CartPole-v1')\n",
    "    rewards = []\n",
    "    for i in range(100):\n",
    "        obs = env.reset()\n",
    "        done = False\n",
    "        reward = 0\n",
    "        while not done:\n",
    "            action = genom.predict(obs)\n",
    "            obs, rew, done, _ = env.step(np.argmax(action))\n",
    "            reward += rew\n",
    "        rewards.append(reward)\n",
    "    return np.mean(rewards)"
   ]
  },
  {
   "cell_type": "code",
   "execution_count": 4,
   "id": "5c94b546",
   "metadata": {},
   "outputs": [],
   "source": [
    "cfg = {'max_genoms': 40,\n",
    "       'output_activation': 'softmax',\n",
    "       'activations': ['relu', 'sigmoid', 'tanh', 'leakyRelu'],\n",
    "       'standard_hidden_node_activation': 'relu',\n",
    "       'fitness_treshold': 500,\n",
    "       'fitness_criterion': 'max',\n",
    "       'n_inputs': 4,\n",
    "       'n_outputs': 2,\n",
    "       'survival_fraction': 1/3,\n",
    "       'complexity_malus': 0.01,\n",
    "       'max_stagnation': 10,\n",
    "       'recurrent': False}"
   ]
  },
  {
   "cell_type": "code",
   "execution_count": 5,
   "id": "404c40c8",
   "metadata": {},
   "outputs": [],
   "source": [
    "darwin = Darwin(cfg)"
   ]
  },
  {
   "cell_type": "code",
   "execution_count": 6,
   "id": "fbd36901",
   "metadata": {
    "scrolled": false
   },
   "outputs": [
    {
     "name": "stderr",
     "output_type": "stream",
     "text": [
      "100%|██████████| 40/40 [00:03<00:00, 13.08it/s]"
     ]
    },
    {
     "name": "stdout",
     "output_type": "stream",
     "text": [
      "Generation: 0\n",
      "Stagnation: 0\n",
      "Best Genom ID: 31\n",
      "Best Genom Shape: (1, 0)\n",
      "Best Genom Complexity: 1.0\n",
      "Best Genom Score: 201.227400\n",
      "Time needed: 3.18s\n"
     ]
    },
    {
     "name": "stderr",
     "output_type": "stream",
     "text": [
      "\n",
      "/usr/local/lib/python3.8/dist-packages/dArwIn/Darwin.py:433: UserWarning: This figure includes Axes that are not compatible with tight_layout, so results might be incorrect.\n",
      "  plt.tight_layout()\n"
     ]
    },
    {
     "data": {
      "image/png": "[encoded data removed]",
      "text/plain": [
       "<Figure size 432x288 with 1 Axes>"
      ]
     },
     "metadata": {},
     "output_type": "display_data"
    },
    {
     "name": "stderr",
     "output_type": "stream",
     "text": [
      "100%|██████████| 27/27 [00:05<00:00,  4.61it/s]"
     ]
    },
    {
     "name": "stdout",
     "output_type": "stream",
     "text": [
      "Generation: 1\n",
      "Stagnation: 0\n",
      "Best Genom ID: 19\n",
      "Best Genom Shape: (2, 0)\n",
      "Best Genom Complexity: 1.4142135623730951\n",
      "Best Genom Score: 473.310361\n",
      "Time needed: 5.94s\n"
     ]
    },
    {
     "name": "stderr",
     "output_type": "stream",
     "text": [
      "\n"
     ]
    },
    {
     "data": {
      "image/png": "[encoded data removed]",
      "text/plain": [
       "<Figure size 432x288 with 1 Axes>"
      ]
     },
     "metadata": {},
     "output_type": "display_data"
    },
    {
     "name": "stderr",
     "output_type": "stream",
     "text": [
      "100%|██████████| 27/27 [00:04<00:00,  5.74it/s]"
     ]
    },
    {
     "name": "stdout",
     "output_type": "stream",
     "text": [
      "Generation: 2\n",
      "Stagnation: 1\n",
      "Best Genom ID: 19\n",
      "Best Genom Shape: (2, 0)\n",
      "Best Genom Complexity: 1.4142135623730951\n",
      "Best Genom Score: 473.310361\n",
      "Time needed: 4.78s\n"
     ]
    },
    {
     "name": "stderr",
     "output_type": "stream",
     "text": [
      "\n"
     ]
    },
    {
     "data": {
      "image/png": "[encoded data removed]",
      "text/plain": [
       "<Figure size 432x288 with 1 Axes>"
      ]
     },
     "metadata": {},
     "output_type": "display_data"
    },
    {
     "name": "stderr",
     "output_type": "stream",
     "text": [
      "100%|██████████| 27/27 [00:05<00:00,  4.85it/s]"
     ]
    },
    {
     "name": "stdout",
     "output_type": "stream",
     "text": [
      "Generation: 3\n",
      "Stagnation: 2\n",
      "Best Genom ID: 19\n",
      "Best Genom Shape: (2, 0)\n",
      "Best Genom Complexity: 1.4142135623730951\n",
      "Best Genom Score: 473.310361\n",
      "Time needed: 5.64s\n"
     ]
    },
    {
     "name": "stderr",
     "output_type": "stream",
     "text": [
      "\n"
     ]
    },
    {
     "data": {
      "image/png": "[encoded data removed]",
      "text/plain": [
       "<Figure size 432x288 with 1 Axes>"
      ]
     },
     "metadata": {},
     "output_type": "display_data"
    },
    {
     "name": "stderr",
     "output_type": "stream",
     "text": [
      "100%|██████████| 27/27 [00:09<00:00,  3.00it/s]"
     ]
    },
    {
     "name": "stdout",
     "output_type": "stream",
     "text": [
      "Generation: 4\n",
      "Stagnation: 0\n",
      "Best Genom ID: 14\n",
      "Best Genom Shape: (2, 0)\n",
      "Best Genom Complexity: 1.4142135623730951\n",
      "Best Genom Score: 492.928932\n",
      "Time needed: 9.08s\n",
      "Solution found in Generation 4!\n"
     ]
    },
    {
     "name": "stderr",
     "output_type": "stream",
     "text": [
      "\n"
     ]
    },
    {
     "data": {
      "image/png": "[encoded data removed]",
      "text/plain": [
       "<Figure size 432x288 with 1 Axes>"
      ]
     },
     "metadata": {},
     "output_type": "display_data"
    }
   ],
   "source": [
    "while not darwin.solutionFound and darwin.stagnation < cfg['max_stagnation']: \n",
    "    darwin.run(eval_func, runs=1, n_jobs=10, verbose=1)\n",
    "    darwin.bestGenom.visualize()"
   ]
  },
  {
   "cell_type": "code",
   "execution_count": 7,
   "id": "6768f947",
   "metadata": {},
   "outputs": [
    {
     "data": {
      "text/plain": [
       "True"
      ]
     },
     "execution_count": 7,
     "metadata": {},
     "output_type": "execute_result"
    }
   ],
   "source": [
    "darwin.solutionFound"
   ]
  },
  {
   "cell_type": "code",
   "execution_count": 8,
   "id": "3b4ce66f",
   "metadata": {},
   "outputs": [
    {
     "data": {
      "text/plain": [
       "492.9289321881345"
      ]
     },
     "execution_count": 8,
     "metadata": {},
     "output_type": "execute_result"
    }
   ],
   "source": [
    "darwin.bestGenom.fitness"
   ]
  },
  {
   "cell_type": "code",
   "execution_count": 9,
   "id": "68123895",
   "metadata": {},
   "outputs": [
    {
     "data": {
      "image/png": "[encoded data removed]",
      "text/plain": [
       "<Figure size 432x288 with 1 Axes>"
      ]
     },
     "metadata": {
      "needs_background": "light"
     },
     "output_type": "display_data"
    }
   ],
   "source": [
    "darwin.visualize()"
   ]
  },
  {
   "cell_type": "code",
   "execution_count": 10,
   "id": "8712b76a",
   "metadata": {},
   "outputs": [
    {
     "name": "stderr",
     "output_type": "stream",
     "text": [
      "/usr/local/lib/python3.8/dist-packages/dArwIn/Darwin.py:433: UserWarning: This figure includes Axes that are not compatible with tight_layout, so results might be incorrect.\n",
      "  plt.tight_layout()\n"
     ]
    },
    {
     "data": {
      "image/png": "[encoded data removed]",
      "text/plain": [
       "<Figure size 432x288 with 1 Axes>"
      ]
     },
     "metadata": {},
     "output_type": "display_data"
    }
   ],
   "source": [
    "darwin.bestGenom.visualize()"
   ]
  },
  {
   "cell_type": "code",
   "execution_count": 11,
   "id": "dd0316e2",
   "metadata": {},
   "outputs": [
    {
     "name": "stdout",
     "output_type": "stream",
     "text": [
      "\n",
      "Genom 14\n",
      "Fitness: 492.9289\n",
      "Shape: (2, 0)\n",
      "Complexity: 1.4142135623730951\n",
      "\n",
      "Connections: [[(-4, 0), -0.16232388920461993], [(-3, 1), 0.8211140638835439]]\n",
      "\n",
      "Input Nodes: [[-1, 'linear'], [-2, 'linear'], [-3, 'linear'], [-4, 'linear']]\n",
      "\n",
      "Hidden Nodes: []\n",
      "\n",
      "Output Nodes: [[0, 0.0, 'sigmoid'], [1, 0.0, 'sigmoid']]\n"
     ]
    }
   ],
   "source": [
    "darwin.bestGenom.describe()"
   ]
  },
  {
   "cell_type": "code",
   "execution_count": 12,
   "id": "d3b17af2",
   "metadata": {},
   "outputs": [
    {
     "name": "stdout",
     "output_type": "stream",
     "text": [
      "500.0\n"
     ]
    }
   ],
   "source": [
    "env = gym.make('CartPole-v1')\n",
    "obs = env.reset()\n",
    "done = False\n",
    "reward = 0\n",
    "while not done:\n",
    "    env.render()\n",
    "    action = darwin.bestGenom.predict(obs)\n",
    "    obs, rew, done, _ = env.step(np.argmax(action))\n",
    "    reward += rew\n",
    "env.close()\n",
    "del env\n",
    "print(reward)"
   ]
  },
  {
   "cell_type": "code",
   "execution_count": null,
   "id": "35c5b5ea",
   "metadata": {},
   "outputs": [],
   "source": []
  }
 ],
 "metadata": {
  "kernelspec": {
   "display_name": "Python 3",
   "language": "python",
   "name": "python3"
  },
  "language_info": {
   "codemirror_mode": {
    "name": "ipython",
    "version": 3
   },
   "file_extension": ".py",
   "mimetype": "text/x-python",
   "name": "python",
   "nbconvert_exporter": "python",
   "pygments_lexer": "ipython3",
   "version": "3.8.6"
  }
 },
 "nbformat": 4,
 "nbformat_minor": 5
}
