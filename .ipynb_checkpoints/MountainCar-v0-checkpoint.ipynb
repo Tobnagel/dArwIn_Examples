{
 "cells": [
  {
   "cell_type": "markdown",
   "id": "7a1f8dd7",
   "metadata": {},
   "source": [
    "## MountainCar-v0\n",
    "\n",
    "https://gym.openai.com/envs/MountainCar-v0/  \n",
    "Episode Termination:  \n",
    "    The car position is more than 0.5  \n",
    "    Episode length is greater than 200"
   ]
  },
  {
   "cell_type": "code",
   "execution_count": 1,
   "id": "16d466c0",
   "metadata": {},
   "outputs": [],
   "source": [
    "from dArwIn import Darwin\n",
    "\n",
    "import gym\n",
    "import numpy as np"
   ]
  },
  {
   "cell_type": "code",
   "execution_count": 2,
   "id": "a10da7f3",
   "metadata": {},
   "outputs": [
    {
     "name": "stdout",
     "output_type": "stream",
     "text": [
      "Box(-1.2000000476837158, 0.6000000238418579, (2,), float32)\n",
      "Discrete(3)\n",
      "[-0.49127521  0.        ]\n",
      "[-0.49251725 -0.00124205] -1.0 False\n",
      "[-4.92992074e-01 -4.74820771e-04] -1.0 False\n",
      "[-4.92696123e-01  2.95951388e-04] -1.0 False\n",
      "[-4.92631610e-01  6.45133528e-05] -1.0 False\n",
      "[-4.92799016e-01 -1.67406451e-04] -1.0 False\n",
      "[-0.49219709  0.00060192] -1.0 False\n",
      "[-0.49083033  0.00136676] -1.0 False\n",
      "[-4.90708941e-01  1.21391804e-04] -1.0 False\n",
      "[-0.49183382 -0.00112488] -1.0 False\n",
      "[-0.49319658 -0.00136276] -1.0 False\n"
     ]
    }
   ],
   "source": [
    "env = gym.make('MountainCar-v0')\n",
    "obs = env.reset()\n",
    "print(env.observation_space)\n",
    "print(env.action_space)\n",
    "print(obs)\n",
    "for i in range(10):\n",
    "    obs, rew, done, _ = env.step(env.action_space.sample())\n",
    "    print(obs, rew, done)\n",
    "del env"
   ]
  },
  {
   "cell_type": "code",
   "execution_count": 3,
   "id": "8e45188e",
   "metadata": {},
   "outputs": [],
   "source": [
    "def eval_func(genom):\n",
    "    env = gym.make('MountainCar-v0')\n",
    "    rewards = []\n",
    "    for i in range(100):\n",
    "        obs = env.reset()\n",
    "        done = False\n",
    "        reward = 0\n",
    "        while not done:\n",
    "            action = genom.predict(obs)\n",
    "            obs, rew, done, _ = env.step(np.argmax(action))\n",
    "            reward += rew\n",
    "        rewards.append(reward)\n",
    "    return np.mean(rewards)"
   ]
  },
  {
   "cell_type": "code",
   "execution_count": 4,
   "id": "0a7a16b8",
   "metadata": {},
   "outputs": [],
   "source": [
    "cfg = {'max_genoms': 60,\n",
    "       'output_activation': 'softmax',\n",
    "       'activations': ['relu', 'sigmoid', 'tanh', 'leakyRelu'],\n",
    "       'standard_hidden_node_activation': 'relu',\n",
    "       'fitness_treshold': 0,\n",
    "       'fitness_criterion': 'max',\n",
    "       'n_inputs': 2,\n",
    "       'n_outputs': 3,\n",
    "       'survival_fraction': 1/3,\n",
    "       'complexity_malus': 0.0,\n",
    "       'max_stagnation': 15,\n",
    "       'recurrent': False}"
   ]
  },
  {
   "cell_type": "code",
   "execution_count": 5,
   "id": "a13b6ef2",
   "metadata": {},
   "outputs": [],
   "source": [
    "darwin = Darwin(cfg)"
   ]
  },
  {
   "cell_type": "code",
   "execution_count": 6,
   "id": "d922367f",
   "metadata": {
    "scrolled": false
   },
   "outputs": [
    {
     "name": "stderr",
     "output_type": "stream",
     "text": [
      "100%|██████████| 60/60 [00:36<00:00,  1.66it/s]"
     ]
    },
    {
     "name": "stdout",
     "output_type": "stream",
     "text": [
      "Generation: 0\n",
      "Stagnation: 0\n",
      "Best Genom ID: 0\n",
      "Best Genom Shape: (1, 0)\n",
      "Best Genom Complexity: 1.0\n",
      "Best Genom Score: -127.650000\n",
      "Time needed: 36.22s\n"
     ]
    },
    {
     "name": "stderr",
     "output_type": "stream",
     "text": [
      "\n",
      "/usr/local/lib/python3.8/dist-packages/dArwIn/Darwin.py:432: UserWarning: This figure includes Axes that are not compatible with tight_layout, so results might be incorrect.\n",
      "  plt.tight_layout()\n"
     ]
    },
    {
     "data": {
      "image/png": "[encoded data removed]",
      "text/plain": [
       "<Figure size 432x288 with 1 Axes>"
      ]
     },
     "metadata": {},
     "output_type": "display_data"
    },
    {
     "name": "stderr",
     "output_type": "stream",
     "text": [
      "100%|██████████| 40/40 [00:24<00:00,  1.63it/s]"
     ]
    },
    {
     "name": "stdout",
     "output_type": "stream",
     "text": [
      "Generation: 1\n",
      "Stagnation: 0\n",
      "Best Genom ID: 26\n",
      "Best Genom Shape: (1, 0)\n",
      "Best Genom Complexity: 1.0\n",
      "Best Genom Score: -122.600000\n",
      "Time needed: 24.62s\n"
     ]
    },
    {
     "name": "stderr",
     "output_type": "stream",
     "text": [
      "\n"
     ]
    },
    {
     "data": {
      "image/png": "[encoded data removed]",
      "text/plain": [
       "<Figure size 432x288 with 1 Axes>"
      ]
     },
     "metadata": {},
     "output_type": "display_data"
    },
    {
     "name": "stderr",
     "output_type": "stream",
     "text": [
      "100%|██████████| 40/40 [00:23<00:00,  1.71it/s]"
     ]
    },
    {
     "name": "stdout",
     "output_type": "stream",
     "text": [
      "Generation: 2\n",
      "Stagnation: 0\n",
      "Best Genom ID: 24\n",
      "Best Genom Shape: (1, 0)\n",
      "Best Genom Complexity: 1.0\n",
      "Best Genom Score: -121.610000\n",
      "Time needed: 23.53s\n"
     ]
    },
    {
     "name": "stderr",
     "output_type": "stream",
     "text": [
      "\n"
     ]
    },
    {
     "data": {
      "image/png": "[encoded data removed]",
      "text/plain": [
       "<Figure size 432x288 with 1 Axes>"
      ]
     },
     "metadata": {},
     "output_type": "display_data"
    },
    {
     "name": "stderr",
     "output_type": "stream",
     "text": [
      "100%|██████████| 40/40 [00:23<00:00,  1.70it/s]\n"
     ]
    },
    {
     "name": "stdout",
     "output_type": "stream",
     "text": [
      "Generation: 3\n",
      "Stagnation: 1\n",
      "Best Genom ID: 24\n",
      "Best Genom Shape: (1, 0)\n",
      "Best Genom Complexity: 1.0\n",
      "Best Genom Score: -121.610000\n",
      "Time needed: 23.66s\n"
     ]
    },
    {
     "data": {
      "image/png": "[encoded data removed]",
      "text/plain": [
       "<Figure size 432x288 with 1 Axes>"
      ]
     },
     "metadata": {},
     "output_type": "display_data"
    },
    {
     "name": "stderr",
     "output_type": "stream",
     "text": [
      "100%|██████████| 40/40 [00:23<00:00,  1.70it/s]"
     ]
    },
    {
     "name": "stdout",
     "output_type": "stream",
     "text": [
      "Generation: 4\n",
      "Stagnation: 2\n",
      "Best Genom ID: 24\n",
      "Best Genom Shape: (1, 0)\n",
      "Best Genom Complexity: 1.0\n",
      "Best Genom Score: -121.610000\n",
      "Time needed: 23.64s\n"
     ]
    },
    {
     "name": "stderr",
     "output_type": "stream",
     "text": [
      "\n"
     ]
    },
    {
     "data": {
      "image/png": "[encoded data removed]",
      "text/plain": [
       "<Figure size 432x288 with 1 Axes>"
      ]
     },
     "metadata": {},
     "output_type": "display_data"
    },
    {
     "name": "stderr",
     "output_type": "stream",
     "text": [
      "100%|██████████| 40/40 [00:24<00:00,  1.61it/s]"
     ]
    },
    {
     "name": "stdout",
     "output_type": "stream",
     "text": [
      "Generation: 5\n",
      "Stagnation: 3\n",
      "Best Genom ID: 24\n",
      "Best Genom Shape: (1, 0)\n",
      "Best Genom Complexity: 1.0\n",
      "Best Genom Score: -121.610000\n",
      "Time needed: 24.94s\n"
     ]
    },
    {
     "name": "stderr",
     "output_type": "stream",
     "text": [
      "\n"
     ]
    },
    {
     "data": {
      "image/png": "[encoded data removed]",
      "text/plain": [
       "<Figure size 432x288 with 1 Axes>"
      ]
     },
     "metadata": {},
     "output_type": "display_data"
    },
    {
     "name": "stderr",
     "output_type": "stream",
     "text": [
      "100%|██████████| 40/40 [00:26<00:00,  1.52it/s]"
     ]
    },
    {
     "name": "stdout",
     "output_type": "stream",
     "text": [
      "Generation: 6\n",
      "Stagnation: 0\n",
      "Best Genom ID: 11\n",
      "Best Genom Shape: (2, 0)\n",
      "Best Genom Complexity: 1.4142135623730951\n",
      "Best Genom Score: -118.410000\n",
      "Time needed: 26.35s\n"
     ]
    },
    {
     "name": "stderr",
     "output_type": "stream",
     "text": [
      "\n"
     ]
    },
    {
     "data": {
      "image/png": "[encoded data removed]",
      "text/plain": [
       "<Figure size 432x288 with 1 Axes>"
      ]
     },
     "metadata": {},
     "output_type": "display_data"
    },
    {
     "name": "stderr",
     "output_type": "stream",
     "text": [
      "100%|██████████| 40/40 [00:23<00:00,  1.67it/s]"
     ]
    },
    {
     "name": "stdout",
     "output_type": "stream",
     "text": [
      "Generation: 7\n",
      "Stagnation: 1\n",
      "Best Genom ID: 11\n",
      "Best Genom Shape: (2, 0)\n",
      "Best Genom Complexity: 1.4142135623730951\n",
      "Best Genom Score: -118.410000\n",
      "Time needed: 23.99s\n"
     ]
    },
    {
     "name": "stderr",
     "output_type": "stream",
     "text": [
      "\n"
     ]
    },
    {
     "data": {
      "image/png": "[encoded data removed]",
      "text/plain": [
       "<Figure size 432x288 with 1 Axes>"
      ]
     },
     "metadata": {},
     "output_type": "display_data"
    },
    {
     "name": "stderr",
     "output_type": "stream",
     "text": [
      "100%|██████████| 40/40 [00:25<00:00,  1.59it/s]"
     ]
    },
    {
     "name": "stdout",
     "output_type": "stream",
     "text": [
      "Generation: 8\n",
      "Stagnation: 2\n",
      "Best Genom ID: 11\n",
      "Best Genom Shape: (2, 0)\n",
      "Best Genom Complexity: 1.4142135623730951\n",
      "Best Genom Score: -118.410000\n",
      "Time needed: 25.24s\n"
     ]
    },
    {
     "name": "stderr",
     "output_type": "stream",
     "text": [
      "\n"
     ]
    },
    {
     "data": {
      "image/png": "[encoded data removed]",
      "text/plain": [
       "<Figure size 432x288 with 1 Axes>"
      ]
     },
     "metadata": {},
     "output_type": "display_data"
    },
    {
     "name": "stderr",
     "output_type": "stream",
     "text": [
      "100%|██████████| 40/40 [00:24<00:00,  1.67it/s]"
     ]
    },
    {
     "name": "stdout",
     "output_type": "stream",
     "text": [
      "Generation: 9\n",
      "Stagnation: 3\n",
      "Best Genom ID: 11\n",
      "Best Genom Shape: (2, 0)\n",
      "Best Genom Complexity: 1.4142135623730951\n",
      "Best Genom Score: -118.410000\n",
      "Time needed: 24.09s\n"
     ]
    },
    {
     "name": "stderr",
     "output_type": "stream",
     "text": [
      "\n"
     ]
    },
    {
     "data": {
      "image/png": "[encoded data removed]",
      "text/plain": [
       "<Figure size 432x288 with 1 Axes>"
      ]
     },
     "metadata": {},
     "output_type": "display_data"
    },
    {
     "name": "stderr",
     "output_type": "stream",
     "text": [
      "100%|██████████| 40/40 [00:26<00:00,  1.52it/s]"
     ]
    },
    {
     "name": "stdout",
     "output_type": "stream",
     "text": [
      "Generation: 10\n",
      "Stagnation: 4\n",
      "Best Genom ID: 11\n",
      "Best Genom Shape: (2, 0)\n",
      "Best Genom Complexity: 1.4142135623730951\n",
      "Best Genom Score: -118.410000\n",
      "Time needed: 26.35s\n"
     ]
    },
    {
     "name": "stderr",
     "output_type": "stream",
     "text": [
      "\n"
     ]
    },
    {
     "data": {
      "image/png": "[encoded data removed]",
      "text/plain": [
       "<Figure size 432x288 with 1 Axes>"
      ]
     },
     "metadata": {},
     "output_type": "display_data"
    },
    {
     "name": "stderr",
     "output_type": "stream",
     "text": [
      "100%|██████████| 40/40 [00:24<00:00,  1.67it/s]"
     ]
    },
    {
     "name": "stdout",
     "output_type": "stream",
     "text": [
      "Generation: 11\n",
      "Stagnation: 5\n",
      "Best Genom ID: 11\n",
      "Best Genom Shape: (2, 0)\n",
      "Best Genom Complexity: 1.4142135623730951\n",
      "Best Genom Score: -118.410000\n",
      "Time needed: 24.09s\n"
     ]
    },
    {
     "name": "stderr",
     "output_type": "stream",
     "text": [
      "\n"
     ]
    },
    {
     "data": {
      "image/png": "[encoded data removed]",
      "text/plain": [
       "<Figure size 432x288 with 1 Axes>"
      ]
     },
     "metadata": {},
     "output_type": "display_data"
    },
    {
     "name": "stderr",
     "output_type": "stream",
     "text": [
      "100%|██████████| 40/40 [00:24<00:00,  1.65it/s]"
     ]
    },
    {
     "name": "stdout",
     "output_type": "stream",
     "text": [
      "Generation: 12\n",
      "Stagnation: 6\n",
      "Best Genom ID: 11\n",
      "Best Genom Shape: (2, 0)\n",
      "Best Genom Complexity: 1.4142135623730951\n",
      "Best Genom Score: -118.410000\n",
      "Time needed: 24.40s\n"
     ]
    },
    {
     "name": "stderr",
     "output_type": "stream",
     "text": [
      "\n"
     ]
    },
    {
     "data": {
      "image/png": "[encoded data removed]",
      "text/plain": [
       "<Figure size 432x288 with 1 Axes>"
      ]
     },
     "metadata": {},
     "output_type": "display_data"
    },
    {
     "name": "stderr",
     "output_type": "stream",
     "text": [
      "100%|██████████| 40/40 [00:23<00:00,  1.71it/s]"
     ]
    },
    {
     "name": "stdout",
     "output_type": "stream",
     "text": [
      "Generation: 13\n",
      "Stagnation: 7\n",
      "Best Genom ID: 11\n",
      "Best Genom Shape: (2, 0)\n",
      "Best Genom Complexity: 1.4142135623730951\n",
      "Best Genom Score: -118.410000\n",
      "Time needed: 23.49s\n"
     ]
    },
    {
     "name": "stderr",
     "output_type": "stream",
     "text": [
      "\n"
     ]
    },
    {
     "data": {
      "image/png": "[encoded data removed]",
      "text/plain": [
       "<Figure size 432x288 with 1 Axes>"
      ]
     },
     "metadata": {},
     "output_type": "display_data"
    },
    {
     "name": "stderr",
     "output_type": "stream",
     "text": [
      "100%|██████████| 40/40 [00:24<00:00,  1.63it/s]"
     ]
    },
    {
     "name": "stdout",
     "output_type": "stream",
     "text": [
      "Generation: 14\n",
      "Stagnation: 8\n",
      "Best Genom ID: 11\n",
      "Best Genom Shape: (2, 0)\n",
      "Best Genom Complexity: 1.4142135623730951\n",
      "Best Genom Score: -118.410000\n",
      "Time needed: 24.57s\n"
     ]
    },
    {
     "name": "stderr",
     "output_type": "stream",
     "text": [
      "\n"
     ]
    },
    {
     "data": {
      "image/png": "[encoded data removed]",
      "text/plain": [
       "<Figure size 432x288 with 1 Axes>"
      ]
     },
     "metadata": {},
     "output_type": "display_data"
    },
    {
     "name": "stderr",
     "output_type": "stream",
     "text": [
      "100%|██████████| 40/40 [00:22<00:00,  1.77it/s]"
     ]
    },
    {
     "name": "stdout",
     "output_type": "stream",
     "text": [
      "Generation: 15\n",
      "Stagnation: 9\n",
      "Best Genom ID: 11\n",
      "Best Genom Shape: (2, 0)\n",
      "Best Genom Complexity: 1.4142135623730951\n",
      "Best Genom Score: -118.410000\n",
      "Time needed: 22.63s\n"
     ]
    },
    {
     "name": "stderr",
     "output_type": "stream",
     "text": [
      "\n"
     ]
    },
    {
     "data": {
      "image/png": "[encoded data removed]",
      "text/plain": [
       "<Figure size 432x288 with 1 Axes>"
      ]
     },
     "metadata": {},
     "output_type": "display_data"
    },
    {
     "name": "stderr",
     "output_type": "stream",
     "text": [
      "100%|██████████| 40/40 [00:25<00:00,  1.55it/s]"
     ]
    },
    {
     "name": "stdout",
     "output_type": "stream",
     "text": [
      "Generation: 16\n",
      "Stagnation: 10\n",
      "Best Genom ID: 11\n",
      "Best Genom Shape: (2, 0)\n",
      "Best Genom Complexity: 1.4142135623730951\n",
      "Best Genom Score: -118.410000\n",
      "Time needed: 25.85s\n"
     ]
    },
    {
     "name": "stderr",
     "output_type": "stream",
     "text": [
      "\n"
     ]
    },
    {
     "data": {
      "image/png": "[encoded data removed]",
      "text/plain": [
       "<Figure size 432x288 with 1 Axes>"
      ]
     },
     "metadata": {},
     "output_type": "display_data"
    },
    {
     "name": "stderr",
     "output_type": "stream",
     "text": [
      "100%|██████████| 40/40 [00:22<00:00,  1.75it/s]\n"
     ]
    },
    {
     "name": "stdout",
     "output_type": "stream",
     "text": [
      "Generation: 17\n",
      "Stagnation: 11\n",
      "Best Genom ID: 11\n",
      "Best Genom Shape: (2, 0)\n",
      "Best Genom Complexity: 1.4142135623730951\n",
      "Best Genom Score: -118.410000\n",
      "Time needed: 22.92s\n"
     ]
    },
    {
     "data": {
      "image/png": "[encoded data removed]",
      "text/plain": [
       "<Figure size 432x288 with 1 Axes>"
      ]
     },
     "metadata": {},
     "output_type": "display_data"
    },
    {
     "name": "stderr",
     "output_type": "stream",
     "text": [
      "100%|██████████| 40/40 [00:26<00:00,  1.53it/s]"
     ]
    },
    {
     "name": "stdout",
     "output_type": "stream",
     "text": [
      "Generation: 18\n",
      "Stagnation: 12\n",
      "Best Genom ID: 11\n",
      "Best Genom Shape: (2, 0)\n",
      "Best Genom Complexity: 1.4142135623730951\n",
      "Best Genom Score: -118.410000\n",
      "Time needed: 26.25s\n"
     ]
    },
    {
     "name": "stderr",
     "output_type": "stream",
     "text": [
      "\n"
     ]
    },
    {
     "data": {
      "image/png": "[encoded data removed]",
      "text/plain": [
       "<Figure size 432x288 with 1 Axes>"
      ]
     },
     "metadata": {},
     "output_type": "display_data"
    },
    {
     "name": "stderr",
     "output_type": "stream",
     "text": [
      "100%|██████████| 40/40 [00:27<00:00,  1.43it/s]"
     ]
    },
    {
     "name": "stdout",
     "output_type": "stream",
     "text": [
      "Generation: 19\n",
      "Stagnation: 13\n",
      "Best Genom ID: 11\n",
      "Best Genom Shape: (2, 0)\n",
      "Best Genom Complexity: 1.4142135623730951\n",
      "Best Genom Score: -118.410000\n",
      "Time needed: 27.96s\n"
     ]
    },
    {
     "name": "stderr",
     "output_type": "stream",
     "text": [
      "\n"
     ]
    },
    {
     "data": {
      "image/png": "[encoded data removed]",
      "text/plain": [
       "<Figure size 432x288 with 1 Axes>"
      ]
     },
     "metadata": {},
     "output_type": "display_data"
    },
    {
     "name": "stderr",
     "output_type": "stream",
     "text": [
      "100%|██████████| 40/40 [00:25<00:00,  1.55it/s]"
     ]
    },
    {
     "name": "stdout",
     "output_type": "stream",
     "text": [
      "Generation: 20\n",
      "Stagnation: 14\n",
      "Best Genom ID: 11\n",
      "Best Genom Shape: (2, 0)\n",
      "Best Genom Complexity: 1.4142135623730951\n",
      "Best Genom Score: -118.410000\n",
      "Time needed: 25.97s\n"
     ]
    },
    {
     "name": "stderr",
     "output_type": "stream",
     "text": [
      "\n"
     ]
    },
    {
     "data": {
      "image/png": "[encoded data removed]",
      "text/plain": [
       "<Figure size 432x288 with 1 Axes>"
      ]
     },
     "metadata": {},
     "output_type": "display_data"
    },
    {
     "name": "stderr",
     "output_type": "stream",
     "text": [
      "100%|██████████| 40/40 [00:24<00:00,  1.63it/s]"
     ]
    },
    {
     "name": "stdout",
     "output_type": "stream",
     "text": [
      "Generation: 21\n",
      "Stagnation: 15\n",
      "Best Genom ID: 11\n",
      "Best Genom Shape: (2, 0)\n",
      "Best Genom Complexity: 1.4142135623730951\n",
      "Best Genom Score: -118.410000\n",
      "Time needed: 24.66s\n",
      "Stagnated at Generation 21!\n"
     ]
    },
    {
     "name": "stderr",
     "output_type": "stream",
     "text": [
      "\n"
     ]
    },
    {
     "data": {
      "image/png": "[encoded data removed]",
      "text/plain": [
       "<Figure size 432x288 with 1 Axes>"
      ]
     },
     "metadata": {},
     "output_type": "display_data"
    }
   ],
   "source": [
    "while not darwin.solutionFound and darwin.stagnation < cfg['max_stagnation']: \n",
    "    darwin.run(eval_func, runs=1, n_jobs=10, verbose=1)\n",
    "    darwin.bestGenom.visualize()"
   ]
  },
  {
   "cell_type": "code",
   "execution_count": 7,
   "id": "eeecbeea",
   "metadata": {},
   "outputs": [
    {
     "data": {
      "text/plain": [
       "False"
      ]
     },
     "execution_count": 7,
     "metadata": {},
     "output_type": "execute_result"
    }
   ],
   "source": [
    "darwin.solutionFound"
   ]
  },
  {
   "cell_type": "code",
   "execution_count": 8,
   "id": "ef160fad",
   "metadata": {},
   "outputs": [
    {
     "data": {
      "text/plain": [
       "-118.41"
      ]
     },
     "execution_count": 8,
     "metadata": {},
     "output_type": "execute_result"
    }
   ],
   "source": [
    "darwin.bestGenom.fitness"
   ]
  },
  {
   "cell_type": "code",
   "execution_count": 9,
   "id": "bf1be960",
   "metadata": {},
   "outputs": [
    {
     "data": {
      "image/png": "[encoded data removed]",
      "text/plain": [
       "<Figure size 432x288 with 1 Axes>"
      ]
     },
     "metadata": {
      "needs_background": "light"
     },
     "output_type": "display_data"
    }
   ],
   "source": [
    "darwin.visualize()"
   ]
  },
  {
   "cell_type": "code",
   "execution_count": 10,
   "id": "3b29ee80",
   "metadata": {},
   "outputs": [
    {
     "name": "stderr",
     "output_type": "stream",
     "text": [
      "/usr/local/lib/python3.8/dist-packages/dArwIn/Darwin.py:432: UserWarning: This figure includes Axes that are not compatible with tight_layout, so results might be incorrect.\n",
      "  plt.tight_layout()\n"
     ]
    },
    {
     "data": {
      "image/png": "[encoded data removed]",
      "text/plain": [
       "<Figure size 432x288 with 1 Axes>"
      ]
     },
     "metadata": {},
     "output_type": "display_data"
    }
   ],
   "source": [
    "darwin.bestGenom.visualize()"
   ]
  },
  {
   "cell_type": "code",
   "execution_count": 11,
   "id": "9bba86d1",
   "metadata": {},
   "outputs": [
    {
     "name": "stdout",
     "output_type": "stream",
     "text": [
      "\n",
      "Genom 11\n",
      "Fitness: -118.4100\n",
      "Shape: (2, 0)\n",
      "Complexity: 1.4142135623730951\n",
      "\n",
      "Connections: [[(-2, 2), 0.7691079349388772], [(-2, 0), -0.7720363499505736]]\n",
      "\n",
      "Input Nodes: [[-1, 'linear'], [-2, 'linear']]\n",
      "\n",
      "Hidden Nodes: []\n",
      "\n",
      "Output Nodes: [[0, 0.0, 'sigmoid'], [1, -0.0, 'sigmoid'], [2, 0.0, 'sigmoid']]\n"
     ]
    }
   ],
   "source": [
    "darwin.bestGenom.describe()"
   ]
  },
  {
   "cell_type": "code",
   "execution_count": 12,
   "id": "566dfede",
   "metadata": {},
   "outputs": [
    {
     "name": "stdout",
     "output_type": "stream",
     "text": [
      "-97.0\n"
     ]
    }
   ],
   "source": [
    "env = gym.make('MountainCar-v0')\n",
    "obs = env.reset()\n",
    "done = False\n",
    "reward = 0\n",
    "while not done:\n",
    "    env.render()\n",
    "    action = darwin.bestGenom.predict(obs)\n",
    "    obs, rew, done, _ = env.step(np.argmax(action))\n",
    "    reward += rew\n",
    "env.close()\n",
    "del env\n",
    "print(reward)"
   ]
  },
  {
   "cell_type": "code",
   "execution_count": null,
   "id": "ae9289f2",
   "metadata": {},
   "outputs": [],
   "source": []
  }
 ],
 "metadata": {
  "kernelspec": {
   "display_name": "Python 3",
   "language": "python",
   "name": "python3"
  },
  "language_info": {
   "codemirror_mode": {
    "name": "ipython",
    "version": 3
   },
   "file_extension": ".py",
   "mimetype": "text/x-python",
   "name": "python",
   "nbconvert_exporter": "python",
   "pygments_lexer": "ipython3",
   "version": "3.8.6"
  }
 },
 "nbformat": 4,
 "nbformat_minor": 5
}
