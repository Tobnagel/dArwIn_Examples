{
 "cells": [
  {
   "cell_type": "markdown",
   "id": "94cd13c0",
   "metadata": {},
   "source": [
    "## CartPole-v1\n",
    "\n",
    "https://gym.openai.com/envs/CartPole-v1/  \n",
    "CartPole-v0 defines \"solving\" as getting average reward of 195.0 over 100 consecutive trials. "
   ]
  },
  {
   "cell_type": "code",
   "execution_count": 1,
   "id": "ca827669",
   "metadata": {},
   "outputs": [],
   "source": [
    "from dArwIn import Darwin\n",
    "\n",
    "import gym\n",
    "import numpy as np"
   ]
  },
  {
   "cell_type": "code",
   "execution_count": 2,
   "id": "7e12f46e",
   "metadata": {},
   "outputs": [
    {
     "name": "stdout",
     "output_type": "stream",
     "text": [
      "Box(-3.4028234663852886e+38, 3.4028234663852886e+38, (4,), float32)\n",
      "Discrete(2)\n",
      "[-0.02102075 -0.0376201   0.04119468 -0.0233203 ]\n"
     ]
    }
   ],
   "source": [
    "env = gym.make('CartPole-v1')\n",
    "obs = env.reset()\n",
    "print(env.observation_space)\n",
    "print(env.action_space)\n",
    "print(obs)\n",
    "del env"
   ]
  },
  {
   "cell_type": "code",
   "execution_count": 3,
   "id": "05e6d46a",
   "metadata": {},
   "outputs": [],
   "source": [
    "def eval_func(genom):\n",
    "    env = gym.make('CartPole-v1')\n",
    "    rewards = []\n",
    "    for i in range(100):\n",
    "        obs = env.reset()\n",
    "        done = False\n",
    "        reward = 0\n",
    "        while not done:\n",
    "            action = genom.predict(obs)\n",
    "            obs, rew, done, _ = env.step(round(action[0]))\n",
    "            reward += rew\n",
    "        rewards.append(reward)\n",
    "    return np.mean(rewards)"
   ]
  },
  {
   "cell_type": "code",
   "execution_count": 4,
   "id": "120dafbf",
   "metadata": {},
   "outputs": [],
   "source": [
    "cfg = {'max_genoms': 40,\n",
    "       'output_activation': 'sigmoid',\n",
    "       'activations': ['relu', 'sigmoid', 'tanh', 'leakyRelu'],\n",
    "       'standard_hidden_node_activation': 'relu',\n",
    "       'fitness_treshold': 500,\n",
    "       'fitness_criterion': 'max',\n",
    "       'n_inputs': 4,\n",
    "       'n_outputs': 1,\n",
    "       'survival_fraction': 1/3,\n",
    "       'complexity_malus': 0.01,\n",
    "       'max_stagnation': 10,\n",
    "       'recurrent': False}"
   ]
  },
  {
   "cell_type": "code",
   "execution_count": 5,
   "id": "8090462d",
   "metadata": {},
   "outputs": [],
   "source": [
    "darwin = Darwin(cfg)"
   ]
  },
  {
   "cell_type": "code",
   "execution_count": 6,
   "id": "f53823f4",
   "metadata": {
    "scrolled": false
   },
   "outputs": [
    {
     "name": "stderr",
     "output_type": "stream",
     "text": [
      "100%|██████████| 40/40 [00:01<00:00, 26.18it/s]\n"
     ]
    },
    {
     "name": "stdout",
     "output_type": "stream",
     "text": [
      "Generation: 0\n",
      "Stagnation: 0\n",
      "Best Genom ID: 11\n",
      "Best Genom Shape: (1, 0)\n",
      "Best Genom Complexity: 1.0\n",
      "Best Genom Score: 205.187400\n",
      "Time needed: 1.62s\n"
     ]
    },
    {
     "name": "stderr",
     "output_type": "stream",
     "text": [
      "/usr/local/lib/python3.8/dist-packages/dArwIn/Darwin.py:433: UserWarning: This figure includes Axes that are not compatible with tight_layout, so results might be incorrect.\n",
      "  plt.tight_layout()\n"
     ]
    },
    {
     "data": {
      "image/png": "[encoded data removed]",
      "text/plain": [
       "<Figure size 432x288 with 1 Axes>"
      ]
     },
     "metadata": {},
     "output_type": "display_data"
    },
    {
     "name": "stderr",
     "output_type": "stream",
     "text": [
      "100%|██████████| 27/27 [00:01<00:00, 15.82it/s]"
     ]
    },
    {
     "name": "stdout",
     "output_type": "stream",
     "text": [
      "Generation: 1\n",
      "Stagnation: 0\n",
      "Best Genom ID: 3\n",
      "Best Genom Shape: (3, 1)\n",
      "Best Genom Complexity: 2.0\n",
      "Best Genom Score: 263.512200\n",
      "Time needed: 1.77s\n"
     ]
    },
    {
     "name": "stderr",
     "output_type": "stream",
     "text": [
      "\n"
     ]
    },
    {
     "data": {
      "image/png": "[encoded data removed]",
      "text/plain": [
       "<Figure size 432x288 with 1 Axes>"
      ]
     },
     "metadata": {},
     "output_type": "display_data"
    },
    {
     "name": "stderr",
     "output_type": "stream",
     "text": [
      "100%|██████████| 27/27 [00:04<00:00,  6.60it/s]"
     ]
    },
    {
     "name": "stdout",
     "output_type": "stream",
     "text": [
      "Generation: 2\n",
      "Stagnation: 0\n",
      "Best Genom ID: 27\n",
      "Best Genom Shape: (3, 0)\n",
      "Best Genom Complexity: 1.7320508075688772\n",
      "Best Genom Score: 491.339746\n",
      "Time needed: 4.15s\n",
      "Solution found in Generation 2!\n"
     ]
    },
    {
     "name": "stderr",
     "output_type": "stream",
     "text": [
      "\n"
     ]
    },
    {
     "data": {
      "image/png": "[encoded data removed]",
      "text/plain": [
       "<Figure size 432x288 with 1 Axes>"
      ]
     },
     "metadata": {},
     "output_type": "display_data"
    }
   ],
   "source": [
    "while not darwin.solutionFound and darwin.stagnation < cfg['max_stagnation']: \n",
    "    darwin.run(eval_func, runs=1, n_jobs=10, verbose=1)\n",
    "    darwin.bestGenom.visualize()"
   ]
  },
  {
   "cell_type": "code",
   "execution_count": 7,
   "id": "889b7573",
   "metadata": {},
   "outputs": [
    {
     "data": {
      "text/plain": [
       "True"
      ]
     },
     "execution_count": 7,
     "metadata": {},
     "output_type": "execute_result"
    }
   ],
   "source": [
    "darwin.solutionFound"
   ]
  },
  {
   "cell_type": "code",
   "execution_count": 8,
   "id": "271bcdb8",
   "metadata": {},
   "outputs": [
    {
     "data": {
      "text/plain": [
       "491.33974596215563"
      ]
     },
     "execution_count": 8,
     "metadata": {},
     "output_type": "execute_result"
    }
   ],
   "source": [
    "darwin.bestGenom.fitness"
   ]
  },
  {
   "cell_type": "code",
   "execution_count": 9,
   "id": "b584b932",
   "metadata": {},
   "outputs": [
    {
     "data": {
      "image/png": "[encoded data removed]",
      "text/plain": [
       "<Figure size 432x288 with 1 Axes>"
      ]
     },
     "metadata": {
      "needs_background": "light"
     },
     "output_type": "display_data"
    }
   ],
   "source": [
    "darwin.visualize()"
   ]
  },
  {
   "cell_type": "code",
   "execution_count": 10,
   "id": "1a64803c",
   "metadata": {},
   "outputs": [
    {
     "name": "stderr",
     "output_type": "stream",
     "text": [
      "/usr/local/lib/python3.8/dist-packages/dArwIn/Darwin.py:433: UserWarning: This figure includes Axes that are not compatible with tight_layout, so results might be incorrect.\n",
      "  plt.tight_layout()\n"
     ]
    },
    {
     "data": {
      "image/png": "[encoded data removed]",
      "text/plain": [
       "<Figure size 432x288 with 1 Axes>"
      ]
     },
     "metadata": {},
     "output_type": "display_data"
    }
   ],
   "source": [
    "darwin.bestGenom.visualize()"
   ]
  },
  {
   "cell_type": "code",
   "execution_count": 11,
   "id": "ef8863bd",
   "metadata": {},
   "outputs": [
    {
     "name": "stdout",
     "output_type": "stream",
     "text": [
      "\n",
      "Genom 27\n",
      "Fitness: 491.3397\n",
      "Shape: (3, 0)\n",
      "Complexity: 1.7320508075688772\n",
      "\n",
      "Connections: [[(-2, 0), 0.32052285176848505], [(-4, 0), 0.3482003470394919], [(-3, 0), 0.3587951255381112]]\n",
      "\n",
      "Input Nodes: [[-1, 'linear'], [-2, 'linear'], [-3, 'linear'], [-4, 'linear']]\n",
      "\n",
      "Hidden Nodes: []\n",
      "\n",
      "Output Nodes: [[0, -0.0, 'sigmoid']]\n"
     ]
    }
   ],
   "source": [
    "darwin.bestGenom.describe()"
   ]
  },
  {
   "cell_type": "code",
   "execution_count": 12,
   "id": "08589733",
   "metadata": {},
   "outputs": [
    {
     "name": "stdout",
     "output_type": "stream",
     "text": [
      "500.0\n"
     ]
    }
   ],
   "source": [
    "env = gym.make('CartPole-v1')\n",
    "obs = env.reset()\n",
    "done = False\n",
    "reward = 0\n",
    "while not done:\n",
    "    env.render()\n",
    "    action = darwin.bestGenom.predict(obs)\n",
    "    obs, rew, done, _ = env.step(round(action[0]))\n",
    "    reward += rew\n",
    "env.close()\n",
    "del env\n",
    "print(reward)"
   ]
  },
  {
   "cell_type": "code",
   "execution_count": null,
   "id": "6771604a",
   "metadata": {},
   "outputs": [],
   "source": []
  }
 ],
 "metadata": {
  "kernelspec": {
   "display_name": "Python 3",
   "language": "python",
   "name": "python3"
  },
  "language_info": {
   "codemirror_mode": {
    "name": "ipython",
    "version": 3
   },
   "file_extension": ".py",
   "mimetype": "text/x-python",
   "name": "python",
   "nbconvert_exporter": "python",
   "pygments_lexer": "ipython3",
   "version": "3.8.6"
  }
 },
 "nbformat": 4,
 "nbformat_minor": 5
}
